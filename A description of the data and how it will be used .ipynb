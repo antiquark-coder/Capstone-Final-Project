{
    "cells": [
        {
            "cell_type": "markdown",
            "metadata": {
                "collapsed": true
            },
            "source": "A description of the data and how it will be used to solve the problem."
        },
        {
            "cell_type": "markdown",
            "metadata": {},
            "source": "The first step is to use wikipedia data to obtain Toronto Postal code and neighborhood. There is a hotspot known for indnesian which is a Indonesian grocery store Oey Trading Co. located 3241 Kennedy Rd#12 which we will explore. Based on the nearby Indonesian community, we locate the potential neighborhood that fits our business project. \n\nOnce we narrow down the possible locations, we will pick a location that has the least number of southeast asia restaurant competition, the closest distance from the highway and closest to the indonesian communities. \nIn addition, we will use historical commercial leasing data from Toronto Regional Real Estate Board report to determine the most cost efficient location to open up the business."
        }
    ],
    "metadata": {
        "kernelspec": {
            "display_name": "Python 3.7",
            "language": "python",
            "name": "python3"
        },
        "language_info": {
            "codemirror_mode": {
                "name": "ipython",
                "version": 3
            },
            "file_extension": ".py",
            "mimetype": "text/x-python",
            "name": "python",
            "nbconvert_exporter": "python",
            "pygments_lexer": "ipython3",
            "version": "3.7.10"
        }
    },
    "nbformat": 4,
    "nbformat_minor": 1
}