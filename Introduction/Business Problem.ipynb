{
    "cells": [
        {
            "cell_type": "markdown",
            "metadata": {
                "collapsed": true
            },
            "source": "A description of the problem and a discussion of the background. "
        },
        {
            "cell_type": "markdown",
            "metadata": {},
            "source": "An Indonesian investor wishes to open a take-out/catering restaurant business in Toronto. The menu would feature authentic Indonesian cruises which cater towards not only customers of Indonesian origin but also foodie who are adventurous about food with complex flavours. The ideal location would be close to major Highway, Indonesian community and no other similar southeast asia restaurants to compete with. The goal of this project is to find out which is the best location of this restaurant that fits above requirements using foursquare locational data.\n"
        }
    ],
    "metadata": {
        "kernelspec": {
            "display_name": "Python 3.7",
            "language": "python",
            "name": "python3"
        },
        "language_info": {
            "codemirror_mode": {
                "name": "ipython",
                "version": 3
            },
            "file_extension": ".py",
            "mimetype": "text/x-python",
            "name": "python",
            "nbconvert_exporter": "python",
            "pygments_lexer": "ipython3",
            "version": "3.7.10"
        }
    },
    "nbformat": 4,
    "nbformat_minor": 1
}